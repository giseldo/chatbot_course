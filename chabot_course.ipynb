{
  "cells": [
    {
      "cell_type": "markdown",
      "metadata": {
        "colab_type": "text",
        "id": "view-in-github"
      },
      "source": [
        "<a href=\"https://colab.research.google.com/github/giseldo/chatbot_course/blob/main/chabot_course.ipynb\" target=\"_parent\"><img src=\"https://colab.research.google.com/assets/colab-badge.svg\" alt=\"Open In Colab\"/></a>"
      ]
    },
    {
      "cell_type": "code",
      "execution_count": null,
      "metadata": {
        "colab": {
          "base_uri": "https://localhost:8080/",
          "height": 477
        },
        "id": "gF3e8c_G_uUT",
        "outputId": "7a1c6125-c687-44d6-8a98-9a8ff2fcc816"
      },
      "outputs": [],
      "source": [
        "import random\n",
        "\n",
        "# Define pares de respostas\n",
        "responses = {\n",
        "    \"olá\": [\"Olá!\", \"Oi!\", \"E aí!\"],\n",
        "    \"como você está\": [\"Estou ótimo, obrigado!\", \"Bem, e você?\"],\n",
        "    \"tchau\": [\"Adeus!\", \"Até mais!\"],\n",
        "    \"default\": [\"Desculpe, não entendi.\", \"Pode reformular isso?\"]\n",
        "}\n",
        "\n",
        "def basic_chatbot(user_input):\n",
        "    user_input = user_input.lower().strip()\n",
        "    for key in responses:\n",
        "        if key in user_input:\n",
        "            return random.choice(responses[key])\n",
        "    return random.choice(responses[\"default\"])\n",
        "\n",
        "# Loop principal\n",
        "print(\"Chatbot Básico: Digite 'sair' para encerrar.\")\n",
        "while True:\n",
        "    user_input = input(\"Você: \")\n",
        "    if user_input.lower() == \"sair\":\n",
        "        print(\"Chatbot: Adeus!\")\n",
        "        break\n",
        "    print(\"Chatbot:\", basic_chatbot(user_input))"
      ]
    },
    {
      "cell_type": "code",
      "execution_count": null,
      "metadata": {
        "colab": {
          "base_uri": "https://localhost:8080/"
        },
        "id": "W7BpI1BK_vAA",
        "outputId": "c50382e7-ad08-4da7-d4db-2c09fc33e4d5"
      },
      "outputs": [],
      "source": [
        "from nltk.chat.util import Chat, reflections\n",
        "\n",
        "# Define pares de conversa\n",
        "pairs = [\n",
        "    [r\"meu nome é (.*)\", [\"Olá %1, prazer em conhecê-lo!\", \"Oi %1, como posso ajudá-lo?\"]],\n",
        "    [r\"oi|olá|e aí\", [\"Olá!\", \"Oi!\", \"E aí!\"]],\n",
        "    [r\"como você está\", [\"Estou bem, obrigado!\", \"Ótimo, e você?\"]],\n",
        "    [r\"qual é o seu nome\", [\"Sou GrokBot, seu assistente virtual!\", \"Pode me chamar de GrokBot!\"]],\n",
        "    [r\"sair|tchau|adeus\", [\"Adeus!\", \"Até mais!\"]],\n",
        "    [r\"(.*)\", [\"Não sei se entendi.\", \"Pode explicar melhor?\"]]\n",
        "]\n",
        "\n",
        "# Cria instância do chatbot\n",
        "chatbot = Chat(pairs, reflections)\n",
        "\n",
        "def advanced_chatbot():\n",
        "    print(\"Chatbot Avançado: Digite 'sair' para encerrar.\")\n",
        "    chatbot.converse()\n",
        "\n",
        "# Executa o chatbot\n",
        "if __name__ == \"__main__\":\n",
        "    advanced_chatbot()"
      ]
    }
  ],
  "metadata": {
    "colab": {
      "authorship_tag": "ABX9TyPoVgUqIAOXsuAhQJiCPQ9g",
      "include_colab_link": true,
      "provenance": []
    },
    "kernelspec": {
      "display_name": "Python 3",
      "name": "python3"
    },
    "language_info": {
      "name": "python"
    }
  },
  "nbformat": 4,
  "nbformat_minor": 0
}
