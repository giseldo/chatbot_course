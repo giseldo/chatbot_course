{
  "nbformat": 4,
  "nbformat_minor": 0,
  "metadata": {
    "colab": {
      "provenance": [],
      "authorship_tag": "ABX9TyPoVgUqIAOXsuAhQJiCPQ9g",
      "include_colab_link": true
    },
    "kernelspec": {
      "name": "python3",
      "display_name": "Python 3"
    },
    "language_info": {
      "name": "python"
    }
  },
  "cells": [
    {
      "cell_type": "markdown",
      "metadata": {
        "id": "view-in-github",
        "colab_type": "text"
      },
      "source": [
        "<a href=\"https://colab.research.google.com/github/giseldo/chatbot_course/blob/main/chabot_course.ipynb\" target=\"_parent\"><img src=\"https://colab.research.google.com/assets/colab-badge.svg\" alt=\"Open In Colab\"/></a>"
      ]
    },
    {
      "cell_type": "code",
      "execution_count": 1,
      "metadata": {
        "colab": {
          "base_uri": "https://localhost:8080/",
          "height": 477
        },
        "id": "gF3e8c_G_uUT",
        "outputId": "7a1c6125-c687-44d6-8a98-9a8ff2fcc816"
      },
      "outputs": [
        {
          "output_type": "stream",
          "name": "stdout",
          "text": [
            "Chatbot Básico: Digite 'sair' para encerrar.\n",
            "Você: ola\n",
            "Chatbot: Pode reformular isso?\n",
            "Você: olá\n",
            "Chatbot: Olá!\n",
            "Você: como você está?\n",
            "Chatbot: Bem, e você?\n"
          ]
        },
        {
          "output_type": "error",
          "ename": "KeyboardInterrupt",
          "evalue": "Interrupted by user",
          "traceback": [
            "\u001b[0;31m---------------------------------------------------------------------------\u001b[0m",
            "\u001b[0;31mKeyboardInterrupt\u001b[0m                         Traceback (most recent call last)",
            "\u001b[0;32m<ipython-input-1-a63a29483490>\u001b[0m in \u001b[0;36m<cell line: 0>\u001b[0;34m()\u001b[0m\n\u001b[1;32m     19\u001b[0m \u001b[0mprint\u001b[0m\u001b[0;34m(\u001b[0m\u001b[0;34m\"Chatbot Básico: Digite 'sair' para encerrar.\"\u001b[0m\u001b[0;34m)\u001b[0m\u001b[0;34m\u001b[0m\u001b[0;34m\u001b[0m\u001b[0m\n\u001b[1;32m     20\u001b[0m \u001b[0;32mwhile\u001b[0m \u001b[0;32mTrue\u001b[0m\u001b[0;34m:\u001b[0m\u001b[0;34m\u001b[0m\u001b[0;34m\u001b[0m\u001b[0m\n\u001b[0;32m---> 21\u001b[0;31m     \u001b[0muser_input\u001b[0m \u001b[0;34m=\u001b[0m \u001b[0minput\u001b[0m\u001b[0;34m(\u001b[0m\u001b[0;34m\"Você: \"\u001b[0m\u001b[0;34m)\u001b[0m\u001b[0;34m\u001b[0m\u001b[0;34m\u001b[0m\u001b[0m\n\u001b[0m\u001b[1;32m     22\u001b[0m     \u001b[0;32mif\u001b[0m \u001b[0muser_input\u001b[0m\u001b[0;34m.\u001b[0m\u001b[0mlower\u001b[0m\u001b[0;34m(\u001b[0m\u001b[0;34m)\u001b[0m \u001b[0;34m==\u001b[0m \u001b[0;34m\"sair\"\u001b[0m\u001b[0;34m:\u001b[0m\u001b[0;34m\u001b[0m\u001b[0;34m\u001b[0m\u001b[0m\n\u001b[1;32m     23\u001b[0m         \u001b[0mprint\u001b[0m\u001b[0;34m(\u001b[0m\u001b[0;34m\"Chatbot: Adeus!\"\u001b[0m\u001b[0;34m)\u001b[0m\u001b[0;34m\u001b[0m\u001b[0;34m\u001b[0m\u001b[0m\n",
            "\u001b[0;32m/usr/local/lib/python3.11/dist-packages/ipykernel/kernelbase.py\u001b[0m in \u001b[0;36mraw_input\u001b[0;34m(self, prompt)\u001b[0m\n\u001b[1;32m   1175\u001b[0m                 \u001b[0;34m\"raw_input was called, but this frontend does not support input requests.\"\u001b[0m\u001b[0;34m\u001b[0m\u001b[0;34m\u001b[0m\u001b[0m\n\u001b[1;32m   1176\u001b[0m             )\n\u001b[0;32m-> 1177\u001b[0;31m         return self._input_request(\n\u001b[0m\u001b[1;32m   1178\u001b[0m             \u001b[0mstr\u001b[0m\u001b[0;34m(\u001b[0m\u001b[0mprompt\u001b[0m\u001b[0;34m)\u001b[0m\u001b[0;34m,\u001b[0m\u001b[0;34m\u001b[0m\u001b[0;34m\u001b[0m\u001b[0m\n\u001b[1;32m   1179\u001b[0m             \u001b[0mself\u001b[0m\u001b[0;34m.\u001b[0m\u001b[0m_parent_ident\u001b[0m\u001b[0;34m[\u001b[0m\u001b[0;34m\"shell\"\u001b[0m\u001b[0;34m]\u001b[0m\u001b[0;34m,\u001b[0m\u001b[0;34m\u001b[0m\u001b[0;34m\u001b[0m\u001b[0m\n",
            "\u001b[0;32m/usr/local/lib/python3.11/dist-packages/ipykernel/kernelbase.py\u001b[0m in \u001b[0;36m_input_request\u001b[0;34m(self, prompt, ident, parent, password)\u001b[0m\n\u001b[1;32m   1217\u001b[0m             \u001b[0;32mexcept\u001b[0m \u001b[0mKeyboardInterrupt\u001b[0m\u001b[0;34m:\u001b[0m\u001b[0;34m\u001b[0m\u001b[0;34m\u001b[0m\u001b[0m\n\u001b[1;32m   1218\u001b[0m                 \u001b[0;31m# re-raise KeyboardInterrupt, to truncate traceback\u001b[0m\u001b[0;34m\u001b[0m\u001b[0;34m\u001b[0m\u001b[0m\n\u001b[0;32m-> 1219\u001b[0;31m                 \u001b[0;32mraise\u001b[0m \u001b[0mKeyboardInterrupt\u001b[0m\u001b[0;34m(\u001b[0m\u001b[0;34m\"Interrupted by user\"\u001b[0m\u001b[0;34m)\u001b[0m \u001b[0;32mfrom\u001b[0m \u001b[0;32mNone\u001b[0m\u001b[0;34m\u001b[0m\u001b[0;34m\u001b[0m\u001b[0m\n\u001b[0m\u001b[1;32m   1220\u001b[0m             \u001b[0;32mexcept\u001b[0m \u001b[0mException\u001b[0m\u001b[0;34m:\u001b[0m\u001b[0;34m\u001b[0m\u001b[0;34m\u001b[0m\u001b[0m\n\u001b[1;32m   1221\u001b[0m                 \u001b[0mself\u001b[0m\u001b[0;34m.\u001b[0m\u001b[0mlog\u001b[0m\u001b[0;34m.\u001b[0m\u001b[0mwarning\u001b[0m\u001b[0;34m(\u001b[0m\u001b[0;34m\"Invalid Message:\"\u001b[0m\u001b[0;34m,\u001b[0m \u001b[0mexc_info\u001b[0m\u001b[0;34m=\u001b[0m\u001b[0;32mTrue\u001b[0m\u001b[0;34m)\u001b[0m\u001b[0;34m\u001b[0m\u001b[0;34m\u001b[0m\u001b[0m\n",
            "\u001b[0;31mKeyboardInterrupt\u001b[0m: Interrupted by user"
          ]
        }
      ],
      "source": [
        "import random\n",
        "\n",
        "# Define pares de respostas\n",
        "responses = {\n",
        "    \"olá\": [\"Olá!\", \"Oi!\", \"E aí!\"],\n",
        "    \"como você está\": [\"Estou ótimo, obrigado!\", \"Bem, e você?\"],\n",
        "    \"tchau\": [\"Adeus!\", \"Até mais!\"],\n",
        "    \"default\": [\"Desculpe, não entendi.\", \"Pode reformular isso?\"]\n",
        "}\n",
        "\n",
        "def basic_chatbot(user_input):\n",
        "    user_input = user_input.lower().strip()\n",
        "    for key in responses:\n",
        "        if key in user_input:\n",
        "            return random.choice(responses[key])\n",
        "    return random.choice(responses[\"default\"])\n",
        "\n",
        "# Loop principal\n",
        "print(\"Chatbot Básico: Digite 'sair' para encerrar.\")\n",
        "while True:\n",
        "    user_input = input(\"Você: \")\n",
        "    if user_input.lower() == \"sair\":\n",
        "        print(\"Chatbot: Adeus!\")\n",
        "        break\n",
        "    print(\"Chatbot:\", basic_chatbot(user_input))"
      ]
    },
    {
      "cell_type": "code",
      "source": [
        "from nltk.chat.util import Chat, reflections\n",
        "\n",
        "# Define pares de conversa\n",
        "pairs = [\n",
        "    [r\"meu nome é (.*)\", [\"Olá %1, prazer em conhecê-lo!\", \"Oi %1, como posso ajudá-lo?\"]],\n",
        "    [r\"oi|olá|e aí\", [\"Olá!\", \"Oi!\", \"E aí!\"]],\n",
        "    [r\"como você está\", [\"Estou bem, obrigado!\", \"Ótimo, e você?\"]],\n",
        "    [r\"qual é o seu nome\", [\"Sou GrokBot, seu assistente virtual!\", \"Pode me chamar de GrokBot!\"]],\n",
        "    [r\"sair|tchau|adeus\", [\"Adeus!\", \"Até mais!\"]],\n",
        "    [r\"(.*)\", [\"Não sei se entendi.\", \"Pode explicar melhor?\"]]\n",
        "]\n",
        "\n",
        "# Cria instância do chatbot\n",
        "chatbot = Chat(pairs, reflections)\n",
        "\n",
        "def advanced_chatbot():\n",
        "    print(\"Chatbot Avançado: Digite 'sair' para encerrar.\")\n",
        "    chatbot.converse()\n",
        "\n",
        "# Executa o chatbot\n",
        "if __name__ == \"__main__\":\n",
        "    advanced_chatbot()"
      ],
      "metadata": {
        "colab": {
          "base_uri": "https://localhost:8080/"
        },
        "id": "W7BpI1BK_vAA",
        "outputId": "c50382e7-ad08-4da7-d4db-2c09fc33e4d5"
      },
      "execution_count": null,
      "outputs": [
        {
          "output_type": "stream",
          "name": "stdout",
          "text": [
            "Chatbot Avançado: Digite 'sair' para encerrar.\n",
            ">ola\n",
            "Não sei se entendi.\n",
            ">meu nome é giseldo\n",
            "Oi giseldo, como posso ajudá-lo?\n",
            ">como voce esta:\n",
            "Não sei se entendi.\n"
          ]
        }
      ]
    },
    {
      "cell_type": "code",
      "source": [],
      "metadata": {
        "id": "pyMe3xDY_6UE"
      },
      "execution_count": null,
      "outputs": []
    },
    {
      "cell_type": "code",
      "source": [],
      "metadata": {
        "id": "NjkNz21bB-Fm"
      },
      "execution_count": null,
      "outputs": []
    }
  ]
}